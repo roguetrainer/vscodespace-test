{
  "cells": [
    {
      "metadata": {},
      "cell_type": "markdown",
      "source": "# F# for Azure Notebooks\n\n![F# Logo >](https://github.com/fsharp/fsfoundation/raw/gh-pages/img/logo/fsharp256.png)\n\nF# is an open-source and cross-platform language which excels at succinct, correct and maintainable code. F# is used for [data scripting](https://fsharpforfunandprofit.com/posts/low-risk-ways-to-use-fsharp-at-work-2/), [data science](http://fslab.org), [web programming](http://fsharp.org/guides/web/) and component development. It interoperates with a wide range of software libraries and tools and all .NET and C# libraries can be used directly from F#.  A key characteristic of F# is that you can use it from small-scale scripting and development to large-scale software delivery. \n\nF# is well suited for literate programming using Azure and Jupyter notebooks because declarations are ordered in a script-like way. This notebook assumes you are familiar with some programming already. However, the examples are kept simple, so if you are just learning F#, that's fine too! There are lots of excellent [F# learning resources](http://fsharp.org/learn.html) available online. The [F# Cheetsheet](https://dungpa.github.io/fsharp-cheatsheet/) is a quick guide. \n\nF# is supported by the [F# Software Foundation](http://fsharp.org) and a worldwide community of contributors. Microsoft and other companies develop professional tooling for F#. The [F# Language Reference](https://docs.microsoft.com/en-us/dotnet/articles/fsharp/) is a reference for the F# language, and the [F# Guide](https://docs.microsoft.com/en-us/dotnet/articles/fsharp/) covers general topics.  [F# on Azure](https://docs.microsoft.com/en-us/dotnet/articles/fsharp/using-fsharp-on-azure/) is a technical guide for using F# in conjunction with a range of Azure services.\n\nTo learn more about how to use Jupyter notebooks, see [the Jupyter documentation](http://jupyter-notebook.readthedocs.io/) and the [Jupyter keyboard shortcuts](https://www.cheatography.com/weidadeyue/cheat-sheets/jupyter-notebook/). You can install the F# and Jupyter tooling locally using [IfSharp](https://github.com/fsprojects/IfSharp).\n\nPlease share your notebooks with your friends and colleagues! The [#fsharp](https://twitter.com/search?f=tweets&vertical=default&q=%23fsharp) tag on twitter can be used to share with the community.\n\n\n# Introducing F# #\n\nLet's start with some simple arithmetic and data:"
    },
    {
      "metadata": {
        "trusted": false
      },
      "cell_type": "code",
      "source": "(12/4 + 5 + 7) * 4 - 18",
      "execution_count": 1,
      "outputs": [
        {
          "data": {
            "text/plain": "42"
          },
          "execution_count": 1,
          "metadata": {},
          "output_type": "execute_result"
        }
      ]
    },
    {
      "metadata": {},
      "cell_type": "markdown",
      "source": "Here is a list of  numbers:"
    },
    {
      "metadata": {
        "trusted": false
      },
      "cell_type": "code",
      "source": "let sampleNumbers = [ 0 .. 15 ]\n\nsampleNumbers",
      "execution_count": 2,
      "outputs": [
        {
          "data": {
            "text/plain": "[0; 1; 2; 3; 4; 5; 6; 7; 8; 9; 10; 11; 12; 13; 14; 15]"
          },
          "execution_count": 2,
          "metadata": {},
          "output_type": "execute_result"
        }
      ]
    },
    {
      "metadata": {},
      "cell_type": "markdown",
      "source": "Next you  use ``let`` to define a function that accepts and returns an integer. Parentheses are optional for function arguments. When needed, annotate the type of a parameter name using ``(argument: type)``.  Documentation comments are added using ``///``."
    },
    {
      "metadata": {
        "trusted": false
      },
      "cell_type": "code",
      "source": "/// A function to compute a sample curve\nlet sampleFunction (x:int) = \n    2*x*x - 5*x + 3\n\nsampleFunction (7 + 4)",
      "execution_count": 3,
      "outputs": [
        {
          "data": {
            "text/plain": "190"
          },
          "execution_count": 3,
          "metadata": {},
          "output_type": "execute_result"
        }
      ]
    },
    {
      "metadata": {},
      "cell_type": "markdown",
      "source": "To convert between numeric typs ``int``, ``double``, ``int64``, ``bigint`` and so on, use conversion functions of the same name"
    },
    {
      "metadata": {
        "trusted": false
      },
      "cell_type": "code",
      "source": "sampleFunction (int 3.14 + int 2.79)",
      "execution_count": 4,
      "outputs": [
        {
          "data": {
            "text/plain": "28"
          },
          "execution_count": 4,
          "metadata": {},
          "output_type": "execute_result"
        }
      ]
    },
    {
      "metadata": {},
      "cell_type": "markdown",
      "source": "F# uses indentation aware syntax (like Python). You can find out more about this in the topic [F# syntax: indentation and verbosity](https://fsharpforfunandprofit.com/posts/fsharp-syntax/).\n\nConditionals are expressed using ``if ... then ... else`` and booleans are expressed using ``true``, ``false``, ``&&``, ``||`` and ``not``:"
    },
    {
      "metadata": {
        "trusted": false
      },
      "cell_type": "code",
      "source": "if 98.0 < 100.0 then 10 else 20",
      "execution_count": 5,
      "outputs": [
        {
          "data": {
            "text/plain": "10"
          },
          "execution_count": 5,
          "metadata": {},
          "output_type": "execute_result"
        }
      ]
    },
    {
      "metadata": {
        "trusted": false
      },
      "cell_type": "code",
      "source": "not false && (true || false)",
      "execution_count": 6,
      "outputs": [
        {
          "data": {
            "text/plain": "true"
          },
          "execution_count": 6,
          "metadata": {},
          "output_type": "execute_result"
        }
      ]
    },
    {
      "metadata": {},
      "cell_type": "markdown",
      "source": "### Strings, Tuples, Lists and Arrays\n\nString data use quotes or triple-quotes:"
    },
    {
      "metadata": {
        "trusted": false
      },
      "cell_type": "code",
      "source": "let helloWorld = \"Hello\" + \" \" + \"world\"\n\nhelloWorld",
      "execution_count": 7,
      "outputs": [
        {
          "data": {
            "text/plain": "\"Hello world\""
          },
          "execution_count": 7,
          "metadata": {},
          "output_type": "execute_result"
        }
      ]
    },
    {
      "metadata": {},
      "cell_type": "markdown",
      "source": "A tuple combines multiple data items into one value.  Here is a tuple consisting of an integer, a string, and a double-precision floating point number"
    },
    {
      "metadata": {
        "trusted": false
      },
      "cell_type": "code",
      "source": "(1, \"fred\", 3.1415)",
      "execution_count": 8,
      "outputs": [
        {
          "data": {
            "text/plain": "(1, \"fred\", 3.1415)"
          },
          "execution_count": 8,
          "metadata": {},
          "output_type": "execute_result"
        }
      ]
    },
    {
      "metadata": {},
      "cell_type": "markdown",
      "source": "Lists are linear sequences of values of the same type. Here is a list containing all the Fridays of the first half of 2017.  THis also shows you how to use some of the very extensive .NET libraries, all of which are available to F#.  You can find out more about the .NET libraries in online resources such as the [.NET Framework API Reference](https://docs.microsoft.com/en-us/dotnet/)."
    },
    {
      "metadata": {
        "trusted": false
      },
      "cell_type": "code",
      "source": "open System\n\nlet fridaysList = \n    [ for month in 1 .. 6 do\n        for day in 1 .. DateTime.DaysInMonth(2017, month) do \n          let date = DateTime(2017, month, day)\n          if date.DayOfWeek = DayOfWeek.Friday then \n            yield date.ToShortDateString() ]\n              \nfridaysList              ",
      "execution_count": 9,
      "outputs": [
        {
          "data": {
            "text/plain": "[\"1/6/2017\"; \"1/13/2017\"; \"1/20/2017\"; \"1/27/2017\"; \"2/3/2017\"; \"2/10/2017\";\n \"2/17/2017\"; \"2/24/2017\"; \"3/3/2017\"; \"3/10/2017\"; \"3/17/2017\"; \"3/24/2017\";\n \"3/31/2017\"; \"4/7/2017\"; \"4/14/2017\"; \"4/21/2017\"; \"4/28/2017\"; \"5/5/2017\";\n \"5/12/2017\"; \"5/19/2017\"; \"5/26/2017\"; \"6/2/2017\"; \"6/9/2017\"; \"6/16/2017\";\n \"6/23/2017\"; \"6/30/2017\"]"
          },
          "execution_count": 9,
          "metadata": {},
          "output_type": "execute_result"
        }
      ]
    },
    {
      "metadata": {},
      "cell_type": "markdown",
      "source": "If you edit the previous bit of code yourself, you will notice that you get autocomplete assistance while editing. This gives you IDE-like editing inside your Azure Notebook. \n\nArrays are similar to lists but are mutable and are stored as flat data rather than linked lists:"
    },
    {
      "metadata": {
        "trusted": false
      },
      "cell_type": "code",
      "source": "let lowNumbers = [| 1 .. 200 |]\n\nlowNumbers",
      "execution_count": 10,
      "outputs": [
        {
          "data": {
            "text/plain": "[|1; 2; 3; 4; 5; 6; 7; 8; 9; 10; 11; 12; 13; 14; 15; 16; 17; 18; 19; 20; 21; 22;\n  23; 24; 25; 26; 27; 28; 29; 30; 31; 32; 33; 34; 35; 36; 37; 38; 39; 40; 41; 42;\n  43; 44; 45; 46; 47; 48; 49; 50; 51; 52; 53; 54; 55; 56; 57; 58; 59; 60; 61; 62;\n  63; 64; 65; 66; 67; 68; 69; 70; 71; 72; 73; 74; 75; 76; 77; 78; 79; 80; 81; 82;\n  83; 84; 85; 86; 87; 88; 89; 90; 91; 92; 93; 94; 95; 96; 97; 98; 99; 100; ...|]"
          },
          "execution_count": 10,
          "metadata": {},
          "output_type": "execute_result"
        }
      ]
    },
    {
      "metadata": {},
      "cell_type": "markdown",
      "source": "Lists, arrays and sequences can be processed using functions.  Use the pipeline operator ``|>`` and a function to process data using List.map:"
    },
    {
      "metadata": {
        "trusted": false
      },
      "cell_type": "code",
      "source": "sampleNumbers \n|> List.map (fun x -> x*x) ",
      "execution_count": 11,
      "outputs": [
        {
          "data": {
            "text/plain": "[0; 1; 4; 9; 16; 25; 36; 49; 64; 81; 100; 121; 144; 169; 196; 225]"
          },
          "execution_count": 11,
          "metadata": {},
          "output_type": "execute_result"
        }
      ]
    },
    {
      "metadata": {},
      "cell_type": "markdown",
      "source": "Pipelines can be chained together.  The following pipeline computes the sum of a selection of square numbers:"
    },
    {
      "metadata": {
        "trusted": false
      },
      "cell_type": "code",
      "source": "let sumOfSelectedSquares = \n    sampleNumbers\n    |> List.map (fun x -> x*x) \n    |> List.filter (fun x -> x % 3 = 0)\n    |> List.sumBy (fun x -> x * x)\n    \nsumOfSelectedSquares    ",
      "execution_count": 12,
      "outputs": [
        {
          "data": {
            "text/plain": "79299"
          },
          "execution_count": 12,
          "metadata": {},
          "output_type": "execute_result"
        }
      ]
    },
    {
      "metadata": {},
      "cell_type": "markdown",
      "source": "Both lists and arrays can use slicing notation:"
    },
    {
      "metadata": {
        "trusted": false
      },
      "cell_type": "code",
      "source": "lowNumbers.[0 .. 50]",
      "execution_count": 13,
      "outputs": [
        {
          "data": {
            "text/plain": "[|1; 2; 3; 4; 5; 6; 7; 8; 9; 10; 11; 12; 13; 14; 15; 16; 17; 18; 19; 20; 21; 22;\n  23; 24; 25; 26; 27; 28; 29; 30; 31; 32; 33; 34; 35; 36; 37; 38; 39; 40; 41; 42;\n  43; 44; 45; 46; 47; 48; 49; 50; 51|]"
          },
          "execution_count": 13,
          "metadata": {},
          "output_type": "execute_result"
        }
      ]
    },
    {
      "metadata": {},
      "cell_type": "markdown",
      "source": "### Sequences\n\nSequences are computed on-demand and are specified using the same constructs as lists and arrays.  Here is an infinite sequence which is a random walk. Use ``yield!`` to return each element of a subsequence:"
    },
    {
      "metadata": {
        "trusted": false
      },
      "cell_type": "code",
      "source": "let rnd = System.Random()\n\nlet rec randomWalk x =\n    seq { yield x\n          yield! randomWalk (x + rnd.NextDouble() - 0.5) }\n\nlet firstValuesOfRandomWalk = \n    randomWalk 5.0 \n    |> Seq.truncate 20\n    |> Seq.toList\n    \nfirstValuesOfRandomWalk",
      "execution_count": 14,
      "outputs": [
        {
          "data": {
            "text/plain": "[5.0; 5.152972215; 5.131491478; 5.330045131; 5.176008005; 5.094922557;\n 5.155821565; 4.848403107; 5.269945366; 4.826121471; 4.634869535; 4.46284476;\n 4.813149169; 4.35049117; 4.514309515; 4.768388469; 5.116468888; 5.498964606;\n 5.978531986; 6.057167344]"
          },
          "execution_count": 14,
          "metadata": {},
          "output_type": "execute_result"
        }
      ]
    },
    {
      "metadata": {},
      "cell_type": "markdown",
      "source": "### Type Definitions\n\nF# is a typed language. Here you define a record type. You can learn more about F# type definitions in online resources such as [F# for Fun and Profit](https://fsharpforfunandprofit.com/posts/overview-of-types-in-fsharp/).\n\nThe type definition uses an option value. Option values are any kind of value tagged with either 'Some' or 'None'.\nThey are used extensively in F# code to represent the cases where many other languages would use null references."
    },
    {
      "metadata": {
        "trusted": false
      },
      "cell_type": "code",
      "source": "type ContactCard = \n    { Name     : string\n      Phone    : string\n      Verified : bool\n      ZipCode : string option}            \n      \nlet sampleCard = { Name = \"Alf\" ; Phone = \"(206) 555-0157\" ; Verified = false; ZipCode=Some \"90210\" }\n\nsampleCard",
      "execution_count": 15,
      "outputs": [
        {
          "data": {
            "text/plain": "{Name = \"Alf\";\n Phone = \"(206) 555-0157\";\n Verified = false;\n ZipCode = Some \"90210\";}"
          },
          "execution_count": 15,
          "metadata": {},
          "output_type": "execute_result"
        }
      ]
    },
    {
      "metadata": {
        "trusted": false
      },
      "cell_type": "code",
      "source": "let showCard (c: ContactCard) = \n    c.Name + \" Phone: \" + c.Phone + (if not c.Verified then \" (unverified)\" else \"\")\n    \nshowCard sampleCard",
      "execution_count": 16,
      "outputs": [
        {
          "data": {
            "text/plain": "\"Alf Phone: (206) 555-0157 (unverified)\""
          },
          "execution_count": 16,
          "metadata": {},
          "output_type": "execute_result"
        }
      ]
    },
    {
      "metadata": {},
      "cell_type": "markdown",
      "source": "### UnitsOfMeasure\n\nCode can be annotated with units of measure when using F# arithmetic over numeric types"
    },
    {
      "metadata": {
        "trusted": false
      },
      "cell_type": "code",
      "source": "open Microsoft.FSharp.Data.UnitSystems.SI.UnitNames\n\nlet raceLength = 1600.0<meter>\n\n[<Measure>]\ntype mile =\n    /// Conversion factor mile to meter: meter is defined in SI.UnitNames\n    static member asMeter = 1609.344<meter/mile>\n\n/// Distance expressed using imperial units\nlet distanceToWalk  = 500.0<mile>          \n\n// Same distanceusing metric system\nlet distanceToWalkInMeters = distanceToWalk * mile.asMeter   \n\n(raceLength, distanceToWalk, distanceToWalkInMeters)",
      "execution_count": 17,
      "outputs": [
        {
          "data": {
            "text/plain": "(1600.0, 500.0, 804672.0)"
          },
          "execution_count": 17,
          "metadata": {},
          "output_type": "execute_result"
        }
      ]
    },
    {
      "metadata": {},
      "cell_type": "markdown",
      "source": "### Parallel Programming\n\nYou can use ``Array.Parallel.map`` and ``Async.Parallel`` and related functions to do parallel processing of collections:"
    },
    {
      "metadata": {
        "trusted": false
      },
      "cell_type": "code",
      "source": "let oneBigArray = [| 0 .. 100000 |]\n\n// Do some CPU intensive computation\nlet rec computeSomeFunction x = \n    if x <= 2 then 1 \n    else computeSomeFunction (x - 1) + computeSomeFunction (x - 2)\n       \n/// Do a parallel map over a large input array\nlet computeResults() = oneBigArray |> Array.Parallel.map (fun x -> computeSomeFunction (x % 24))\n\ncomputeResults()",
      "execution_count": 18,
      "outputs": [
        {
          "data": {
            "text/plain": "[|1; 1; 1; 2; 3; 5; 8; 13; 21; 34; 55; 89; 144; 233; 377; 610; 987; 1597; 2584;\n  4181; 6765; 10946; 17711; 28657; 1; 1; 1; 2; 3; 5; 8; 13; 21; 34; 55; 89; 144;\n  233; 377; 610; 987; 1597; 2584; 4181; 6765; 10946; 17711; 28657; 1; 1; 1; 2; 3;\n  5; 8; 13; 21; 34; 55; 89; 144; 233; 377; 610; 987; 1597; 2584; 4181; 6765;\n  10946; 17711; 28657; 1; 1; 1; 2; 3; 5; 8; 13; 21; 34; 55; 89; 144; 233; 377;\n  610; 987; 1597; 2584; 4181; 6765; 10946; 17711; 28657; 1; 1; 1; 2; ...|]"
          },
          "execution_count": 18,
          "metadata": {},
          "output_type": "execute_result"
        }
      ]
    },
    {
      "metadata": {},
      "cell_type": "markdown",
      "source": "### Learning More\n\nA range of F# learning topics are available online at [The F# Software Foundation](http://fsharp.org/learn)"
    },
    {
      "metadata": {},
      "cell_type": "markdown",
      "source": "# Special Features of F# in Azure Notebooks\n\nAzure Notebooks uses [`IfSharp`](http://fsprojects.github.io/IfSharp/) to provide F# Notebooks. This section will take you through some of the nice ways you can combine F# features with the display mechanisms provides by `IfSharp`."
    },
    {
      "metadata": {},
      "cell_type": "markdown",
      "source": "## Referencing NuGet Packages using Paket\n\nThere are thousands of well-engineered packages available for use with F#.  Most are provided via [nuget.org](http://nuget.org). You can use the [Paket dependency manager](https://fsprojects.github.io/Paket/) to add references to NuGet packages to your F# Azure Notebook."
    },
    {
      "metadata": {},
      "cell_type": "markdown",
      "source": "** The original notebook is here:** **[https://notebooks.azure.com/Microsoft/libraries/samples/html/FSharp for Azure Notebooks.ipynb](https://notebooks.azure.com/Microsoft/libraries/samples/html/FSharp%20for%20Azure%20Notebooks.ipynb)**  \n**Github issue:** https://github.com/Microsoft/AzureNotebooks/issues/395#issuecomment-396720332 "
    },
    {
      "metadata": {},
      "cell_type": "markdown",
      "source": "The following installs the selected packages.  It may take a minute to run on first use with a particular kernel."
    },
    {
      "metadata": {
        "trusted": true
      },
      "cell_type": "code",
      "source": "open System\nopen System.IO",
      "execution_count": 1,
      "outputs": []
    },
    {
      "metadata": {
        "scrolled": true,
        "trusted": true
      },
      "cell_type": "code",
      "source": "#load \"Paket.fsx\"",
      "execution_count": 2,
      "outputs": []
    },
    {
      "metadata": {
        "trusted": true
      },
      "cell_type": "code",
      "source": "Paket.Package\n  [ \"MathNet.Numerics\"\n    \"MathNet.Numerics.FSharp\"\n    //\"Microsoft.ML\"\n    \"Microsoft.ML.Probabilistic -Version 0.3.1810.501\"\n    //\"Microsoft.ML.Probabilistic\"\n  ]",
      "execution_count": 6,
      "outputs": []
    },
    {
      "metadata": {
        "trusted": true
      },
      "cell_type": "code",
      "source": "#load \"Paket.Generated.Refs.fsx\"",
      "execution_count": 7,
      "outputs": []
    },
    {
      "metadata": {
        "trusted": true
      },
      "cell_type": "code",
      "source": "// Ignore this one - it's old!\n// File.ReadAllText(@\"../IfSharp/paket.dependencies\")\n// File.GetLastWriteTime(@\"../IfSharp/paket.dependencies\")",
      "execution_count": 8,
      "outputs": []
    },
    {
      "metadata": {
        "trusted": true
      },
      "cell_type": "code",
      "source": "File.ReadAllText(@\"../IfSharp/bin/paket.dependencies\")",
      "execution_count": 9,
      "outputs": [
        {
          "output_type": "execute_result",
          "execution_count": 9,
          "data": {
            "text/plain": "\"framework: net471\ngenerate_load_scripts: true\nsource https://api.nuget.org/v3/index.json\nnuget FSharp.Core ~> 4.3.4\nnuget MathNet.Numerics.FSharp\nnuget Microsoft.ML.Probabilistic\nnuget Microsoft.ML.Probabilistic -Version 0.3.1810.501\""
          },
          "metadata": {}
        }
      ]
    },
    {
      "metadata": {
        "trusted": true
      },
      "cell_type": "code",
      "source": "File.GetLastWriteTime(@\"../IfSharp/bin/paket.dependencies\")",
      "execution_count": 10,
      "outputs": [
        {
          "output_type": "execute_result",
          "execution_count": 10,
          "data": {
            "text/plain": "10/10/2018 19:54:40"
          },
          "metadata": {}
        }
      ]
    },
    {
      "metadata": {
        "trusted": true
      },
      "cell_type": "code",
      "source": "File.ReadAllText(@\"../IfSharp/bin/paket.lock\")",
      "execution_count": 11,
      "outputs": [
        {
          "output_type": "execute_result",
          "execution_count": 11,
          "data": {
            "text/plain": "\"GENERATE-LOAD-SCRIPTS: ON\nRESTRICTION: == net471\nNUGET\n  remote: https://api.nuget.org/v3/index.json\n    FSharp.Core (4.3.4)\n    MathNet.Numerics (4.5.1)\n    MathNet.Numerics.FSharp (4.5.1)\n      FSharp.Core (>= 4.3.3)\n      MathNet.Numerics (>= 4.5.1)\n    Microsoft.ML.Probabilistic (0.3.1810.501)\n\""
          },
          "metadata": {}
        }
      ]
    },
    {
      "metadata": {
        "trusted": false
      },
      "cell_type": "code",
      "source": "File.GetLastWriteTime(@\"../IfSharp/bin/paket.lock\")",
      "execution_count": 84,
      "outputs": [
        {
          "data": {
            "text/plain": "6/18/2018 7:20:45 PM"
          },
          "execution_count": 84,
          "metadata": {},
          "output_type": "execute_result"
        }
      ]
    },
    {
      "metadata": {
        "trusted": false
      },
      "cell_type": "code",
      "source": "open System\nopen System.IO\nopen Paket",
      "execution_count": 85,
      "outputs": []
    },
    {
      "metadata": {
        "trusted": false
      },
      "cell_type": "code",
      "source": "let dependencies = Dependencies.Locate(__SOURCE_DIRECTORY__) // /home/nbuser/library",
      "execution_count": 86,
      "outputs": [
        {
          "name": "stderr",
          "output_type": "stream",
          "text": "Expression evaluation failed: Could not find 'paket.dependencies'. To use Paket with this solution, please run 'paket init' first.\nIf you have already run 'paket.init' then ensure that 'paket.dependencies' is located in the top level directory of your repository.\nLike this:\nMySourceDir\n  .paket\n  paket.dependencies\nExceptionCould not find 'paket.dependencies'. To use Paket with this solution, please run 'paket init' first.\nIf you have already run 'paket.init' then ensure that 'paket.dependencies' is located in the top level directory of your repository.\nLike this:\nMySourceDir\n  .paket\n  paket.dependencies\n  at <StartupCode$Paket-Core>.$PublicAPI+findInPath@54-10.Invoke (System.String message) [0x00001] in <593d0e63a970bee8a7450383630e3d59>:0 \n  at Microsoft.FSharp.Core.PrintfImpl+StringPrintfEnv`1[TResult].Finalize () [0x00012] in <5939249c904cf4daa74503839c243959>:0 \n  at Microsoft.FSharp.Core.PrintfImpl+Final5@270D[TState,TResidue,TResult,A,B,C,D,E].Invoke (E e) [0x00104] in <5939249c904cf4daa74503839c243959>:0 \n  at <StartupCode$Paket-Core>.$PublicAPI+findInPath@54-17.Invoke (System.String arg70) [0x00001] in <593d0e63a970bee8a7450383630e3d59>:0 \n  at Microsoft.FSharp.Core.FSharpFunc`2[T,TResult].InvokeFast[V] (Microsoft.FSharp.Core.FSharpFunc`2[T,TResult] func, T arg1, TResult arg2) [0x0001f] in <5939249c904cf4daa74503839c243959>:0 \n  at <StartupCode$Paket-Core>.$PublicAPI.findInPath@45-9 (System.IO.DirectoryInfo dir, System.Boolean withError) [0x00077] in <593d0e63a970bee8a7450383630e3d59>:0 \n  at Paket.Dependencies.Locate (System.String path) [0x00007] in <593d0e63a970bee8a7450383630e3d59>:0 \n  at <StartupCode$FSI_0134>.$FSI_0134.main@ () [0x00001] in <ebd67ff5644843f1ae5c8538e69cd61a>:0 \n  at (wrapper managed-to-native) System.Reflection.MonoMethod:InternalInvoke (System.Reflection.MonoMethod,object,object[],System.Exception&)\n  at System.Reflection.MonoMethod.Invoke (System.Object obj, System.Reflection.BindingFlags invokeAttr, System.Reflection.Binder binder, System.Object[] parameters, System.Globalization.CultureInfo culture) [0x00032] in <77c9551943624fd18301ba6f78a841e5>:0 \n"
        }
      ]
    },
    {
      "metadata": {
        "trusted": false
      },
      "cell_type": "code",
      "source": "dependencies.GetInstalledPackages()",
      "execution_count": 87,
      "outputs": [
        {
          "name": "stderr",
          "output_type": "stream",
          "text": "The value, namespace, type or module 'dependencies' is not defined. Maybe you want one of the following:\n   Dependencies\n   dependencies2\n   dependencies3\n   DependenciesFile\n   DependenciesGroup"
        }
      ]
    },
    {
      "metadata": {
        "trusted": false
      },
      "cell_type": "code",
      "source": "let dependencies2 = Dependencies.Locate(@\"../IfSharp/bin/\") // /home/nbuser/IfSharp/bin\ndependencies2.GetInstalledPackages()",
      "execution_count": 88,
      "outputs": [
        {
          "data": {
            "text/plain": "[(\"Main\", \"FSharp.Core\", \"4.2.3\"); (\"Main\", \"MathNet.Numerics\", \"4.5.1\");\n (\"Main\", \"MathNet.Numerics.FSharp\", \"2.6\"); (\"Main\", \"Microsoft.ML\", \"0.2\")]"
          },
          "execution_count": 88,
          "metadata": {},
          "output_type": "execute_result"
        }
      ]
    },
    {
      "metadata": {
        "trusted": false
      },
      "cell_type": "code",
      "source": "let dependencies3 = Dependencies.Locate(@\"../IfSharp/\") // /home/nbuser/IfSharp/\ndependencies3.GetInstalledPackages()",
      "execution_count": 92,
      "outputs": [
        {
          "name": "stderr",
          "output_type": "stream",
          "text": "Expression evaluation failed: Error during parsing of /home/nbuser/IfSharp/paket.lock.\nMessage: unknown lock file format RESTRICTION: >= net451\nExceptionError during parsing of /home/nbuser/IfSharp/paket.lock.\nMessage: unknown lock file format RESTRICTION: >= net451\n  at <StartupCode$Paket-Core>.$LockFile+Parse@696-26.Invoke (System.String message) [0x00001] in <593d0e63a970bee8a7450383630e3d59>:0 \n  at Microsoft.FSharp.Core.PrintfImpl+StringPrintfEnv`1[TResult].Finalize () [0x00012] in <5939249c904cf4daa74503839c243959>:0 \n  at Microsoft.FSharp.Core.PrintfImpl+Final3@247[TState,TResidue,TResult,A,B,C].Invoke (Microsoft.FSharp.Core.FSharpFunc`2[T,TResult] env, A a, B b, C c) [0x0007d] in <5939249c904cf4daa74503839c243959>:0 \n  at Microsoft.FSharp.Core.OptimizedClosures+Invoke@3301-2[T2,T3,T4,TResult,T1].Invoke (T2 u, T3 v, T4 w) [0x00001] in <5939249c904cf4daa74503839c243959>:0 \n  at Microsoft.FSharp.Core.OptimizedClosures+Invoke@3266-1[T2,T3,TResult,T1].Invoke (T2 u, T3 v) [0x00001] in <5939249c904cf4daa74503839c243959>:0 \n  at Microsoft.FSharp.Core.OptimizedClosures+Invoke@3253[T2,TResult,T1].Invoke (T2 u) [0x00001] in <5939249c904cf4daa74503839c243959>:0 \n  at <StartupCode$Paket-Core>.$LockFile+Parse@696-29.Invoke (System.String arg30) [0x00001] in <593d0e63a970bee8a7450383630e3d59>:0 \n  at Microsoft.FSharp.Core.FSharpFunc`2[T,TResult].InvokeFast[V] (Microsoft.FSharp.Core.FSharpFunc`2[T,TResult] func, T arg1, TResult arg2) [0x0001f] in <5939249c904cf4daa74503839c243959>:0 \n  at Microsoft.FSharp.Core.FSharpFunc`2[T,TResult].InvokeFast[V,W] (Microsoft.FSharp.Core.FSharpFunc`2[T,TResult] func, T arg1, TResult arg2, V arg3) [0x0003d] in <5939249c904cf4daa74503839c243959>:0 \n  at Paket.LockFile.Parse (System.String lockFileName, System.String[] lines) [0x00054] in <593d0e63a970bee8a7450383630e3d59>:0 \n  at Paket.Dependencies.GetLockFile () [0x00036] in <593d0e63a970bee8a7450383630e3d59>:0 \n  at Paket.Dependencies.GetInstalledPackages () [0x00001] in <593d0e63a970bee8a7450383630e3d59>:0 \n  at <StartupCode$FSI_0143>.$FSI_0143.main@ () [0x00015] in <ebd67ff5644843f1ae5c8538e69cd61a>:0 \n  at (wrapper managed-to-native) System.Reflection.MonoMethod:InternalInvoke (System.Reflection.MonoMethod,object,object[],System.Exception&)\n  at System.Reflection.MonoMethod.Invoke (System.Object obj, System.Reflection.BindingFlags invokeAttr, System.Reflection.Binder binder, System.Object[] parameters, System.Globalization.CultureInfo culture) [0x00032] in <77c9551943624fd18301ba6f78a841e5>:0 \n"
        }
      ]
    },
    {
      "metadata": {},
      "cell_type": "markdown",
      "source": "You can now use these packages from your code using this reference:"
    },
    {
      "metadata": {
        "trusted": false
      },
      "cell_type": "code",
      "source": "File.ReadAllText(@\"../IfSharp/bin/Paket.Generated.Refs.fsx\")",
      "execution_count": 25,
      "outputs": [
        {
          "data": {
            "text/plain": "\"#load @\".paket/load/main.group.fsx\"\""
          },
          "execution_count": 25,
          "metadata": {},
          "output_type": "execute_result"
        }
      ]
    },
    {
      "metadata": {
        "trusted": false
      },
      "cell_type": "code",
      "source": "File.ReadAllText(@\"../IfSharp/bin/.paket/load/main.group.fsx\")",
      "execution_count": 26,
      "outputs": [
        {
          "data": {
            "text/plain": "\"#r \"System.Numerics\" \n#r \"System\" \n#r \"System.Core\" \n#r \"System.Runtime.Serialization\" \n#r \"../../packages/MathNet.Numerics/lib/net40/MathNet.Numerics.dll\" \n#r \"../../packages/MathNet.Numerics.FSharp/lib/net40/MathNet.Numerics.FSharp.dll\" \""
          },
          "execution_count": 26,
          "metadata": {},
          "output_type": "execute_result"
        }
      ]
    },
    {
      "metadata": {
        "trusted": false
      },
      "cell_type": "code",
      "source": "File.GetLastWriteTime(@\"../IfSharp/bin/.paket/load/main.group.fsx\")",
      "execution_count": 27,
      "outputs": [
        {
          "data": {
            "text/plain": "6/14/2018 3:36:21 PM"
          },
          "execution_count": 27,
          "metadata": {},
          "output_type": "execute_result"
        }
      ]
    },
    {
      "metadata": {},
      "cell_type": "markdown",
      "source": "For example, you can use the MathNet.Numerics linear algebra libraries:"
    },
    {
      "metadata": {
        "trusted": false
      },
      "cell_type": "code",
      "source": "open MathNet.Numerics.LinearAlgebra",
      "execution_count": 8,
      "outputs": []
    },
    {
      "metadata": {
        "trusted": false
      },
      "cell_type": "code",
      "source": "let m = matrix [[ 1.0; 2.0 ]\n                [ 3.0; 4.0 ]]",
      "execution_count": 9,
      "outputs": [
        {
          "name": "stderr",
          "output_type": "stream",
          "text": "The value or constructor 'matrix' is not defined. Maybe you want one of the following:\n   Matrix\n   MatrixBuilder\n   MatrixExtensions"
        }
      ]
    },
    {
      "metadata": {},
      "cell_type": "markdown",
      "source": "** Unfortunately this won't work!!!** \"The value or constructor 'matrix' is not defined.\""
    },
    {
      "metadata": {
        "trusted": false
      },
      "cell_type": "code",
      "source": "m.Inverse() ",
      "execution_count": 12,
      "outputs": [
        {
          "name": "stderr",
          "output_type": "stream",
          "text": "The value, namespace, type or module 'm' is not defined. Maybe you want one of the following:\n   MS"
        }
      ]
    },
    {
      "metadata": {
        "nbpresent": {
          "id": "0079d7da-b825-49f4-878b-5cba790aaeb7"
        },
        "slideshow": {
          "slide_type": "slide"
        }
      },
      "cell_type": "markdown",
      "source": "## Tables\n\nLet's start with using `Util.Table` to display a nicely formatted table:"
    },
    {
      "metadata": {
        "trusted": false
      },
      "cell_type": "code",
      "source": "type MyType = { FirstName: string; LastName: string }\nlet records = \n    [|\n        { FirstName = \"Walter\"; LastName = \"Harp\" }\n        { FirstName = \"Jeff\"; LastName = \"Smith\" }\n        { FirstName = \"Ben\"; LastName = \"Smith\" }\n        { FirstName = \"\"; LastName = \"Holly\" }\n    |]\n\nrecords |> Util.Table",
      "execution_count": null,
      "outputs": []
    },
    {
      "metadata": {},
      "cell_type": "markdown",
      "source": "You can also filter the table to display a subset of the data as you display it:"
    },
    {
      "metadata": {
        "trusted": false
      },
      "cell_type": "code",
      "source": "Util.Table(records, [| \"LastName\" |])",
      "execution_count": null,
      "outputs": []
    },
    {
      "metadata": {},
      "cell_type": "markdown",
      "source": "## Formatting text using LaTeX\n\nHere, we composing some LaTeX using `LatexOutput` and the `Util.Math` function provided by `IfSharp`.\n"
    },
    {
      "metadata": {
        "trusted": false
      },
      "cell_type": "code",
      "source": "\"f(x)\" |> Util.Math \n",
      "execution_count": null,
      "outputs": []
    },
    {
      "metadata": {
        "nbpresent": {
          "id": "7342d5dc-eb68-40a3-b2ce-e3c421908af4"
        }
      },
      "cell_type": "markdown",
      "source": "Lovely! You have used `Util.Math: string -> LatexOutput` to format LaTeX. The result of your code snippet is implictly passed to the `Display` function and shown in your output. Next we format some operators:"
    },
    {
      "metadata": {
        "nbpresent": {
          "id": "b2f547cf-c217-4f9d-8ed4-17c26d771aca"
        },
        "trusted": false
      },
      "cell_type": "code",
      "source": "\"\\int_0^\\infty e^{-x^2} dx \\mathrm{\\ in\\ \\LaTeX{}}\"\n  |> Util.Math",
      "execution_count": null,
      "outputs": []
    },
    {
      "metadata": {
        "nbpresent": {
          "id": "7342d5dc-eb68-40a3-b2ce-e3c421908af4"
        }
      },
      "cell_type": "markdown",
      "source": "The result of your code snippet is implictly passed to the `Display` function and shown in your output. The `Display` function is provided by `IfSharp`. It takes any object and attempts to display it in your notebook. By default, `Display` already handles many types (including `LatexOutput`), and later we'll see how to extend it to handle any type you need.\n\nYou can also call `Display` in your code, in order to display more than one output."
    },
    {
      "metadata": {},
      "cell_type": "markdown",
      "source": "\n## Charts\n\nWe can display charts, using [`XPlot.Plotly`](https://tahahachana.github.io/XPlot/plotly.html):"
    },
    {
      "metadata": {
        "trusted": false
      },
      "cell_type": "code",
      "source": "#load \"XPlot.Plotly.Paket.fsx\"\n#load \"XPlot.Plotly.fsx\"\nopen XPlot.Plotly",
      "execution_count": null,
      "outputs": []
    },
    {
      "metadata": {},
      "cell_type": "markdown",
      "source": "For example:"
    },
    {
      "metadata": {
        "trusted": false
      },
      "cell_type": "code",
      "source": "Heatmap(z = [[1; 20; 30]; [20; 1; 60]; [30; 60; 1]])\n    |> Chart.Plot\n    |> Chart.WithLayout (Layout(title = \"Simple Heatmap\"))",
      "execution_count": null,
      "outputs": []
    },
    {
      "metadata": {
        "nbpresent": {
          "id": "575cd23f-9194-41a7-a58b-2aa59de77830"
        },
        "scrolled": true,
        "trusted": false
      },
      "cell_type": "code",
      "source": "[\"giraffes\", 20; \"orangutans\", 14; \"monkeys\", 23]\n    |> Chart.Bar\n    |> Chart.WithLayout (Layout(title = \"Basic Bar Chart\"))\n    |> Chart.WithHeight 300\n    |> Chart.WithWidth 400",
      "execution_count": null,
      "outputs": []
    },
    {
      "metadata": {},
      "cell_type": "markdown",
      "source": "Note that we had to `#load` two helper scripts in order to load the assemblies we need and to enable `Display` to show our charts. The first downloads and installs the required Paket packages, and the second sets up `Display` support."
    },
    {
      "metadata": {
        "collapsed": true
      },
      "cell_type": "markdown",
      "source": "### Other Charting Libraries, e.g. Angara.Chart\n\nYou are not restricted in the choice of charting library to use.  Any charting library on [nuget.org](http://nuget.org) can also be used.  For example, below we use [Angara.Chart](http://predictionmachines.github.io/Angara.Chart) to render charts in F# Azure Notebooks:"
    },
    {
      "metadata": {
        "scrolled": true,
        "trusted": false
      },
      "cell_type": "code",
      "source": "#load \"Angara.Charting.Paket.fsx\"\n#load \"Angara.Charting.fsx\"",
      "execution_count": null,
      "outputs": []
    },
    {
      "metadata": {
        "trusted": false
      },
      "cell_type": "code",
      "source": "let x = [| for i in 0..99 -> float(i) / 10.0 |]\nlet y = x |> Array.map (fun x -> sin x)\nlet z = x |> Array.map (fun x -> cos x)\n\n[ Angara.Charting.Plot.line(x, y); Angara.Charting.Plot.markers(x, z) ] |> Angara.Charting.Chart.ofList",
      "execution_count": null,
      "outputs": []
    },
    {
      "metadata": {},
      "cell_type": "markdown",
      "source": "## Computed Inline HTML \n\nWe can also format HTML and display it by producing values of a special type ``HtmlOutput`` (a record type with one field ``Html``):"
    },
    {
      "metadata": {
        "trusted": false
      },
      "cell_type": "code",
      "source": "let html x = { Html = x }\n \nhtml \"\"\"<div style=\"background-color: #007fff; font-weight: bold;\">Would you like some toast?</div>\"\"\"\n\n// Exercise - try video content:\n//  <video width=\"480\" controls poster=\"https://archive.org/download/WebmVp8Vorbis/webmvp8.gif\" >\n//    <source src=\"https://archive.org/download/WebmVp8Vorbis/webmvp8.webm\" type=\"video/webm\">\n//    <source src=\"https://archive.org/download/WebmVp8Vorbis/webmvp8_512kb.mp4\" type=\"video/mp4\">\n//    <source src=\"https://archive.org/download/WebmVp8Vorbis/webmvp8.ogv\" type=\"video/ogg\">\n//    Your browser doesn't support HTML5 video tag.\n//  </video>\"\"\"",
      "execution_count": null,
      "outputs": []
    },
    {
      "metadata": {},
      "cell_type": "markdown",
      "source": "This type renders its content directly as HTML."
    },
    {
      "metadata": {},
      "cell_type": "markdown",
      "source": "Certain sites of content are whitelisted for use from Azure Notebooks.  At the time of writing these include ``raw.githubusercontent.com``, ``github.com``, ``onedrive.live.com`` and a range of Azure services. You can include content from these sites directly through ``Util.Url``:"
    },
    {
      "metadata": {
        "trusted": false
      },
      "cell_type": "code",
      "source": "\"https://github.com/fsharp/fsfoundation/raw/gh-pages/img/logo/fsharp256.png\"\n  |> Util.Url",
      "execution_count": null,
      "outputs": []
    },
    {
      "metadata": {},
      "cell_type": "markdown",
      "source": "\n\n## Note: Evaluation uses a REPL\n\nNotice that we used a value from an earlier snippet in a later one. Your entire notebook is a single program running in an `fsi` REPL, so you can accumulate data and functions as you go. However, there's a gotcha: snippets aren't reevaluated unless you specifically request them to be. As such, if you go back and edit an earlier snippet, it can reference things that were defined in a later snippet! If you reevaluate your entire notebook, this will cause errors.\n\nJust remember that your notebook is a single REPL instance, and you won't be surprised by this behaviour.\n"
    },
    {
      "metadata": {},
      "cell_type": "markdown",
      "source": "## Custom `Display` Printers\n\nThe `Display` function can show many things in your F# Azure Notebook already, but you can extend it to display any type in any way that suits you. To do this, use `IfSharp.Kernel.App.AddDisplayPrinter` to add a function that accepts your type and returns a record that includes a `ContentType: string` (which is interpreted as a MIME Content-Type) and a `Data: string`, which is the content that will be interpreted by your browser as the specified Content-Type.\n\nOften this will be \"text/html\" and some HTML. Here's an example:"
    },
    {
      "metadata": {
        "trusted": false
      },
      "cell_type": "code",
      "source": "open IfSharp.Kernel.App\n\ntype Person = \n    { Name: string }\n\nAddDisplayPrinter (fun (person: Person) -> { ContentType = \"text/html\"; Data = \"<b><i>Ahoy \" + person.Name + \"!</i></b>\" })",
      "execution_count": null,
      "outputs": []
    },
    {
      "metadata": {},
      "cell_type": "markdown",
      "source": "After this the Person type will display in the requiested way:"
    },
    {
      "metadata": {
        "trusted": false
      },
      "cell_type": "code",
      "source": "let samplePerson = { Name = \"Walter\" }\n\nsamplePerson",
      "execution_count": null,
      "outputs": []
    },
    {
      "metadata": {},
      "cell_type": "markdown",
      "source": "# Using JavaScript to Display Dynamic Output\n\nYou can also use existing browser display technologies directly in your F# Azure Notebook. Let's start by loading D3:"
    },
    {
      "metadata": {
        "trusted": false
      },
      "cell_type": "code",
      "source": "@\"<script src=\"\"https://d3js.org/d3.v3.min.js\"\"></script>\" |> Util.Html |> Display",
      "execution_count": null,
      "outputs": []
    },
    {
      "metadata": {},
      "cell_type": "markdown",
      "source": "That's great! Now let's define a few F# types and functions that will let us write D3 output as structured F# data. These types are pretty simple, and don't cover everything D3 can do, but it shows how F# can interact with JavaScript directly in your notebook."
    },
    {
      "metadata": {
        "scrolled": true,
        "trusted": false
      },
      "cell_type": "code",
      "source": "type D3Op = {\n    Op: string\n    Style: List<string * string>\n    Attr: List<string * int>\n    On: List<string * List<D3Op>>\n}\n\ntype D3 = List<D3Op>\n\nlet d3op = {Op = \"\"; Style = []; Attr = []; On = []}\n\nlet mapConcat s f xs = \n    xs |> List.map f |> String.concat s\n\nlet rec D3OpPrinter (op: D3Op) =\n    sprintf \n        \"%s%s%s%s\"\n        (if op.Op.Length > 0 then\n            sprintf \"\\t.append(\\\"%s\\\")\\n\" op.Op\n        else\n            \"\")\n        (op.Style |> mapConcat \"\\t\" (fun (k, v) -> sprintf \".style(\\\"%s\\\", \\\"%s\\\")\\n\" k v ) )\n        (op.Attr |> mapConcat \"\\t\" (fun (k, v) -> sprintf \".attr(\\\"%s\\\", %d)\\n\" k v))\n        (op.On\n            |> mapConcat \"\\t\" (fun (k, v) ->\n                sprintf \n                    \".on(\\\"%s\\\",\\n\\tfunction(){\\n\\td3.select(this)\\n%s\\t})\\n\"\n                    k\n                    (v |> mapConcat \"\" D3OpPrinter)\n                ))\n\nlet D3Printer (d3: D3) =\n    sprintf \n        \"\"\"\n<div id=\"viz\"></div>\n<script type=\"text/javascript\">\n\nd3.select(\"#viz\")\n%s\n\"\"\"\n        (d3 |> mapConcat \"\" D3OpPrinter)\n\nApp.AddDisplayPrinter (fun (d3: D3) ->\n  { ContentType = \"text/html\"\n    Data = D3Printer d3 }\n  )",
      "execution_count": null,
      "outputs": []
    },
    {
      "metadata": {},
      "cell_type": "markdown",
      "source": "Phew, now that's all done, let's use D3 to render a circle that changes colour when you put your mouse over it. We'll do so by writing structured data."
    },
    {
      "metadata": {
        "trusted": false
      },
      "cell_type": "code",
      "source": "[\n    {d3op with \n        Op = \"svg\"\n        Attr = [(\"width\", 100); (\"height\", 100)] }\n    {d3op with\n        Op = \"circle\"\n        Style = [(\"stroke\", \"grey\"); (\"fill\", \"white\")]\n        Attr = [(\"r\", 40); (\"cx\", 50); (\"cy\", 50)]\n        On = \n          [ (\"mouseover\", [{d3op with Style = [(\"fill\", \"blue\")]}])\n            (\"mouseout\", [{d3op with Style = [(\"fill\", \"white\")]}]) ] }\n]",
      "execution_count": null,
      "outputs": []
    }
  ],
  "metadata": {
    "anaconda-cloud": {},
    "kernelspec": {
      "name": "ifsharp",
      "display_name": "F#",
      "language": "fsharp"
    },
    "language": "fsharp",
    "language_info": {
      "mimetype": "text/x-fsharp",
      "nbconvert_exporter": "",
      "name": "fsharp",
      "pygments_lexer": "",
      "version": "4.3.1.0",
      "file_extension": ".fs",
      "codemirror_mode": ""
    },
    "nbpresent": {
      "slides": {
        "09a16b12-0691-4580-9d91-25312b21b24d": {
          "id": "09a16b12-0691-4580-9d91-25312b21b24d",
          "prev": null,
          "regions": {
            "4e892448-127f-4afd-8117-a03bbf32575a": {
              "attrs": {
                "height": 0.61439162077179865,
                "width": 0.79999771891733251,
                "x": 0.1000000097925266,
                "y": 0.099999996684621714
              },
              "content": {
                "cell": "b2f547cf-c217-4f9d-8ed4-17c26d771aca",
                "part": "whole"
              },
              "id": "4e892448-127f-4afd-8117-a03bbf32575a"
            }
          }
        },
        "12694a15-5174-453e-9113-77250c085085": {
          "id": "12694a15-5174-453e-9113-77250c085085",
          "prev": "a3c7e8f5-e9e4-4b5f-86de-41c62b40326c",
          "regions": {
            "d5c2541b-2a6b-4b3c-b446-6590c77d378b": {
              "attrs": {
                "height": 0.8,
                "width": 0.8,
                "x": 0.1,
                "y": 0.1
              },
              "content": {
                "cell": "575cd23f-9194-41a7-a58b-2aa59de77830",
                "part": "whole"
              },
              "id": "d5c2541b-2a6b-4b3c-b446-6590c77d378b"
            }
          }
        },
        "a3c7e8f5-e9e4-4b5f-86de-41c62b40326c": {
          "id": "a3c7e8f5-e9e4-4b5f-86de-41c62b40326c",
          "prev": "a529b3ae-293e-40c2-a488-4f391110fc85",
          "regions": {
            "97f2373e-b0b6-4bb0-81a4-0d766f01a827": {
              "attrs": {
                "height": 0.8,
                "width": 0.8,
                "x": 0.1,
                "y": 0.1
              },
              "content": {
                "cell": "7342d5dc-eb68-40a3-b2ce-e3c421908af4",
                "part": "whole"
              },
              "id": "97f2373e-b0b6-4bb0-81a4-0d766f01a827"
            }
          }
        },
        "a529b3ae-293e-40c2-a488-4f391110fc85": {
          "id": "a529b3ae-293e-40c2-a488-4f391110fc85",
          "prev": "09a16b12-0691-4580-9d91-25312b21b24d",
          "regions": {
            "8c5d2501-fd31-4ab6-bb09-e8f88e9f52cd": {
              "attrs": {
                "height": 0.8,
                "width": 0.8,
                "x": 0.1,
                "y": 0.1
              },
              "content": {
                "cell": "69a0e6cc-f59f-44e7-b525-3d54c0d28102",
                "part": "whole"
              },
              "id": "8c5d2501-fd31-4ab6-bb09-e8f88e9f52cd"
            }
          }
        }
      },
      "themes": {}
    }
  },
  "nbformat": 4,
  "nbformat_minor": 1
}